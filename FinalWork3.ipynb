{
 "cells": [
  {
   "cell_type": "code",
   "execution_count": 1,
   "metadata": {},
   "outputs": [],
   "source": [
    "import numpy as np\n",
    "from sklearn import datasets\n",
    "import matplotlib.pyplot as plt"
   ]
  },
  {
   "cell_type": "code",
   "execution_count": 2,
   "metadata": {},
   "outputs": [],
   "source": [
    "import warnings\n",
    "\n",
    "warnings.filterwarnings('ignore')"
   ]
  },
  {
   "cell_type": "markdown",
   "metadata": {},
   "source": [
    "#### Для любой модели из курса(кроме KNN) и данных на которых она строилась: примнить метод главных компонент к данным, и сравнить работу модели на исходных данных с работой на данных где в качестве признаков используются две главные компоненты."
   ]
  },
  {
   "cell_type": "markdown",
   "metadata": {},
   "source": [
    "## Результат для адаптивного бустинга с логистической регрессией"
   ]
  },
  {
   "cell_type": "code",
   "execution_count": 3,
   "metadata": {},
   "outputs": [],
   "source": [
    "from sklearn.linear_model import LogisticRegression\n",
    "from sklearn.datasets import load_breast_cancer\n",
    "from sklearn import model_selection\n",
    "\n",
    "import numpy as np\n",
    "import warnings"
   ]
  },
  {
   "cell_type": "code",
   "execution_count": 4,
   "metadata": {},
   "outputs": [],
   "source": [
    "X, y = load_breast_cancer(return_X_y=True)\n",
    "X_train, X_test, y_train, y_test = model_selection.train_test_split(X, y, test_size=0.25)\n",
    "\n",
    "def get_error(pred, y):\n",
    "    return np.sum((pred != y).astype(int)) / len(y)\n",
    "\n",
    "def log_loss(pred, y): \n",
    "    return -np.sum(y*np.log2(pred)+(1-y)*np.log2(1-pred))/len(y)"
   ]
  },
  {
   "cell_type": "code",
   "execution_count": 5,
   "metadata": {},
   "outputs": [],
   "source": [
    "def adaboost(X, y, N):\n",
    "\n",
    "    # Запишем количество классов в переменную\n",
    "    n_classes = len(np.unique((y)))\n",
    "\n",
    "    models = []\n",
    "\n",
    "    for n in range(N):\n",
    "        clf = LogisticRegression(random_state=0)\n",
    "        #clf.fit(X, y, w)\n",
    "        clf.fit(X, y)\n",
    "        \n",
    "        predictions = clf.predict(X)\n",
    "        e = log_loss(predictions, y)\n",
    "        \n",
    "        alpha = 0.5 * np.log((1 - e) / e)\n",
    "\n",
    "        match = predictions == y\n",
    "\n",
    "        models.append((alpha, clf))\n",
    "    \n",
    "    return models"
   ]
  },
  {
   "cell_type": "code",
   "execution_count": 6,
   "metadata": {},
   "outputs": [],
   "source": [
    "with warnings.catch_warnings():\n",
    "    warnings.simplefilter(\"ignore\")\n",
    "    N = 50\n",
    "    \n",
    "    models = adaboost(X_train, y_train, N)"
   ]
  },
  {
   "cell_type": "code",
   "execution_count": 7,
   "metadata": {},
   "outputs": [
    {
     "name": "stdout",
     "output_type": "stream",
     "text": [
      "Точность алгоритма на обучающей выборке: 98.122\n"
     ]
    }
   ],
   "source": [
    "def predict(X, models):\n",
    "    classes = []\n",
    "    for alpha, clf in models:\n",
    "        prediction = clf.predict(X)\n",
    "        classes.append(prediction)\n",
    "        \n",
    "    return np.array(classes)\n",
    "\n",
    "print(f'Точность алгоритма на обучающей выборке: {(100 - get_error(predict(X_train, models), y_train)):.3f}')"
   ]
  },
  {
   "cell_type": "code",
   "execution_count": 8,
   "metadata": {},
   "outputs": [
    {
     "name": "stdout",
     "output_type": "stream",
     "text": [
      "Точность алгоритма на тестовой выборке: 96.853\n"
     ]
    }
   ],
   "source": [
    "print(f'Точность алгоритма на тестовой выборке: {(100 - get_error(predict(X_test, models), y_test)):.3f}')"
   ]
  },
  {
   "cell_type": "markdown",
   "metadata": {},
   "source": [
    "## Применение PCA для адаптивного бустинга с логистической регрессией"
   ]
  },
  {
   "cell_type": "code",
   "execution_count": 12,
   "metadata": {},
   "outputs": [],
   "source": [
    "X, y = load_breast_cancer(return_X_y=True)\n",
    "X_train, X_test, y_train, y_test = model_selection.train_test_split(X, y, test_size=0.25)"
   ]
  },
  {
   "cell_type": "code",
   "execution_count": 13,
   "metadata": {},
   "outputs": [],
   "source": [
    "# Для начала отмасштабируем выборку\n",
    "X = X_train.astype(float)\n",
    "mean=np.apply_along_axis(np.mean, 0, X)\n",
    "std=np.apply_along_axis(np.std, 0, X)\n",
    "X_normed_trained=(X-mean[np.newaxis, :])/std[np.newaxis, :]"
   ]
  },
  {
   "cell_type": "code",
   "execution_count": 14,
   "metadata": {},
   "outputs": [
    {
     "name": "stdout",
     "output_type": "stream",
     "text": [
      "Матрица весов W:\n",
      " [[ 0.22036826 -0.23166116]\n",
      " [ 0.10720321 -0.08157197]\n",
      " [ 0.22853368 -0.21336647]\n",
      " [ 0.22230466 -0.22761029]\n",
      " [ 0.1457819   0.19535568]\n",
      " [ 0.24086238  0.14772976]\n",
      " [ 0.25833871  0.0627911 ]\n",
      " [ 0.2607821  -0.0327151 ]\n",
      " [ 0.13970422  0.18331767]\n",
      " [ 0.06113533  0.37323648]\n",
      " [ 0.20267142 -0.10529754]\n",
      " [ 0.01898002  0.07259228]\n",
      " [ 0.20772676 -0.08814432]\n",
      " [ 0.20029222 -0.1493035 ]\n",
      " [ 0.01868004  0.20367987]\n",
      " [ 0.17472731  0.23265899]\n",
      " [ 0.14795385  0.20617466]\n",
      " [ 0.18284622  0.1397113 ]\n",
      " [ 0.02617093  0.1556857 ]\n",
      " [ 0.10217937  0.29283626]\n",
      " [ 0.22898972 -0.21780584]\n",
      " [ 0.10926407 -0.06383144]\n",
      " [ 0.23746601 -0.19733983]\n",
      " [ 0.22645776 -0.21580411]\n",
      " [ 0.13067574  0.17738698]\n",
      " [ 0.2106612   0.13664677]\n",
      " [ 0.22704443  0.10187933]\n",
      " [ 0.25003448 -0.00311742]\n",
      " [ 0.12031118  0.12015367]\n",
      " [ 0.13021554  0.27998338]]\n"
     ]
    }
   ],
   "source": [
    "# Найдем собственные векторы и собственные значения\n",
    " \n",
    "covariance_matrix = (X_normed_trained.T).dot(X_normed_trained)\n",
    "\n",
    "eig_values, eig_vectors = np.linalg.eig(covariance_matrix)\n",
    "\n",
    "# сформируем список кортежей (собственное значение, собственный вектор)\n",
    "eig_pairs = [(np.abs(eig_values[i]), eig_vectors[:, i]) for i in range(len(eig_values))]\n",
    "\n",
    "# и отсортируем список по убыванию собственных значений\n",
    "\n",
    "sorted(eig_pairs, reverse=True)\n",
    "\n",
    "# Сформируем вектор весов из собственных векторов, соответствующих первым двум главным компонентам\n",
    "W = np.hstack((eig_pairs[0][1].reshape(30,1), eig_pairs[1][1].reshape(30,1)))\n",
    "\n",
    "print(f'Матрица весов W:\\n', W)"
   ]
  },
  {
   "cell_type": "code",
   "execution_count": 15,
   "metadata": {},
   "outputs": [],
   "source": [
    "new_X_train=X_normed_trained.dot(W)"
   ]
  },
  {
   "cell_type": "code",
   "execution_count": 16,
   "metadata": {},
   "outputs": [],
   "source": [
    "X_normed_test=(X_test-mean[np.newaxis, :])/std[np.newaxis, :]\n",
    "new_X_test=X_normed_test.dot(W)\n",
    "\n",
    "#new_X_test"
   ]
  },
  {
   "cell_type": "code",
   "execution_count": 17,
   "metadata": {},
   "outputs": [],
   "source": [
    "N = 50\n",
    "    \n",
    "models = adaboost(new_X_train, y_train, N)"
   ]
  },
  {
   "cell_type": "code",
   "execution_count": 18,
   "metadata": {},
   "outputs": [
    {
     "name": "stdout",
     "output_type": "stream",
     "text": [
      "Точность алгоритма на обучающей выборке: 98.239\n"
     ]
    }
   ],
   "source": [
    "print(f'Точность алгоритма на обучающей выборке: {(100 - get_error(predict(new_X_train, models), y_train)):.3f}')"
   ]
  },
  {
   "cell_type": "code",
   "execution_count": 19,
   "metadata": {},
   "outputs": [
    {
     "name": "stdout",
     "output_type": "stream",
     "text": [
      "Точность алгоритма на тестовой выборке: 97.552\n"
     ]
    }
   ],
   "source": [
    "print(f'Точность алгоритма на тестовой выборке: {(100 - get_error(predict(new_X_test, models), y_test)):.3f}')"
   ]
  }
 ],
 "metadata": {
  "kernelspec": {
   "display_name": "Python 3",
   "language": "python",
   "name": "python3"
  },
  "language_info": {
   "codemirror_mode": {
    "name": "ipython",
    "version": 3
   },
   "file_extension": ".py",
   "mimetype": "text/x-python",
   "name": "python",
   "nbconvert_exporter": "python",
   "pygments_lexer": "ipython3",
   "version": "3.8.3"
  }
 },
 "nbformat": 4,
 "nbformat_minor": 4
}
